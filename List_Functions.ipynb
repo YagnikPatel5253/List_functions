{
 "cells": [
  {
   "cell_type": "code",
   "execution_count": 2,
   "id": "5d9e2738-2914-4646-8b1b-c6f2b2f481ee",
   "metadata": {},
   "outputs": [
    {
     "data": {
      "text/plain": [
       "[1, 2, 3]"
      ]
     },
     "execution_count": 2,
     "metadata": {},
     "output_type": "execute_result"
    }
   ],
   "source": [
    "#Question 1\n",
    "l1 = [1,2]\n",
    "l1.append(3)\n",
    "l1"
   ]
  },
  {
   "cell_type": "code",
   "execution_count": 5,
   "id": "b4221b94-f62d-45bc-a497-8a032f56807e",
   "metadata": {},
   "outputs": [
    {
     "data": {
      "text/plain": [
       "['yagnik']"
      ]
     },
     "execution_count": 5,
     "metadata": {},
     "output_type": "execute_result"
    }
   ],
   "source": [
    "#Question 2\n",
    "#pop() removes element through index wise and also remove the last element if value is not specified\n",
    "#for example\n",
    "l2 = ['yagnik',3,3.14]\n",
    "l2.pop()\n",
    "l2.pop(1)\n",
    "l2"
   ]
  },
  {
   "cell_type": "code",
   "execution_count": 4,
   "id": "2a00d50c-7b65-4dc7-a5ae-40a154e180c0",
   "metadata": {},
   "outputs": [
    {
     "data": {
      "text/plain": [
       "[4, 7]"
      ]
     },
     "execution_count": 4,
     "metadata": {},
     "output_type": "execute_result"
    }
   ],
   "source": [
    "#Remove element directly remove element through value\n",
    "#for example\n",
    "l3 = [4,8,7]\n",
    "l3.remove(8)\n",
    "l3"
   ]
  },
  {
   "cell_type": "code",
   "execution_count": 8,
   "id": "21d63ca2-6246-409a-9ac1-bea32ad5545a",
   "metadata": {},
   "outputs": [
    {
     "data": {
      "text/plain": [
       "[8, 7, 6, 5, 4, 2, 1]"
      ]
     },
     "execution_count": 8,
     "metadata": {},
     "output_type": "execute_result"
    }
   ],
   "source": [
    "#Question 3\n",
    "l4 = [4,8,5,6,1,2,7]\n",
    "l4.sort(reverse=True)\n",
    "l4"
   ]
  },
  {
   "cell_type": "code",
   "execution_count": 9,
   "id": "24b5b7bc-808e-4e82-8071-0881b0cea90f",
   "metadata": {},
   "outputs": [
    {
     "data": {
      "text/plain": [
       "[9, 4, 3, 7, 'yagnik']"
      ]
     },
     "execution_count": 9,
     "metadata": {},
     "output_type": "execute_result"
    }
   ],
   "source": [
    "#Question 5\n",
    "l5 = ['yagnik',7,3,4,9]\n",
    "l5.reverse()\n",
    "l5"
   ]
  },
  {
   "cell_type": "code",
   "execution_count": 16,
   "id": "75eafcb0-27ea-4757-b550-b6d921ad4b2e",
   "metadata": {},
   "outputs": [
    {
     "data": {
      "text/plain": [
       "2"
      ]
     },
     "execution_count": 16,
     "metadata": {},
     "output_type": "execute_result"
    }
   ],
   "source": [
    "#Question 4\n",
    "l6 = [5,4,8,8,9,2,4]\n",
    "l6.count(8)"
   ]
  },
  {
   "cell_type": "code",
   "execution_count": null,
   "id": "2805118d-34e6-4f59-8476-f0edc8841f4c",
   "metadata": {},
   "outputs": [],
   "source": []
  }
 ],
 "metadata": {
  "kernelspec": {
   "display_name": "Python 3 (ipykernel)",
   "language": "python",
   "name": "python3"
  },
  "language_info": {
   "codemirror_mode": {
    "name": "ipython",
    "version": 3
   },
   "file_extension": ".py",
   "mimetype": "text/x-python",
   "name": "python",
   "nbconvert_exporter": "python",
   "pygments_lexer": "ipython3",
   "version": "3.10.8"
  }
 },
 "nbformat": 4,
 "nbformat_minor": 5
}
